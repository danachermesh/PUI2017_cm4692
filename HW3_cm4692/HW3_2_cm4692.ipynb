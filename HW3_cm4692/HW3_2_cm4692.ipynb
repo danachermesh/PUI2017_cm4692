{
 "cells": [
  {
   "cell_type": "markdown",
   "metadata": {},
   "source": [
    "# HW3 Assignment 2\n",
    "## The author is Cheng Ma\n",
    " "
   ]
  },
  {
   "cell_type": "code",
   "execution_count": 1,
   "metadata": {
    "collapsed": false,
    "scrolled": true
   },
   "outputs": [
    {
     "name": "stdout",
     "output_type": "stream",
     "text": [
      "Populating the interactive namespace from numpy and matplotlib\n"
     ]
    },
    {
     "data": {
      "text/plain": [
       "'/home/cusp/cm4692/PUIdata'"
      ]
     },
     "execution_count": 1,
     "metadata": {},
     "output_type": "execute_result"
    }
   ],
   "source": [
    "from __future__  import print_function, division\n",
    "import pylab as pl\n",
    "import pandas as pd\n",
    "import numpy as np\n",
    "import os\n",
    "\n",
    "%pylab inline\n",
    "\n",
    "\n",
    "if os.getenv ('PUIDATA') is None:\n",
    "    print (\"Must set env variable PUI2016\")\n",
    "    \n",
    "os.getenv(\"PUIDATA\")"
   ]
  },
  {
   "cell_type": "markdown",
   "metadata": {},
   "source": [
    "# IDEA:\n",
    "## The post-90s are more likely than pre-90s to choose biking _for commuting_\n",
    "\n",
    "# NULL HYPOTHESIS:\n",
    "## The ratio of post-90s biking on weekends over post-90s biking on weekdays is _the same_ or _lower_  than the ratio of pre-90s biking over weekends to pre-90s biking on weekdays\n",
    "\n",
    "# _$H_0$_ : $\\frac{Pr_{\\mathrm{weekend}}}{Pr_{\\mathrm{week}}} <= \\frac{Po_{\\mathrm{weekend}}}{Po_{\\mathrm{week}}}$\n",
    "# _$H_1$_ : $\\frac{Pr_{\\mathrm{weekend}}}{Pr_{\\mathrm{week}}} > \\frac{Po_{\\mathrm{weekend}}}{Po_{\\mathrm{week}}}$\n",
    "\n",
    "\n",
    "## we use a significance level  $\\alpha=0.05$\n",
    "\n",
    "#### which means we want the probability of getting a result at least as significant as mine to be less then 5%"
   ]
  },
  {
   "cell_type": "markdown",
   "metadata": {},
   "source": [
    "## Starting with a single month of data:  reading data from citibike csv file from Jul 2017\n"
   ]
  },
  {
   "cell_type": "markdown",
   "metadata": {},
   "source": [
    "### download and move  data to PUIDATA\n",
    "# NOTE: \n",
    "# 1. access to data from within the notebook _is required_\n",
    "# 2. if data is downloaded it _must_ be stored in a directory pointed to by the environmental variable PUIDATA"
   ]
  },
  {
   "cell_type": "code",
   "execution_count": 2,
   "metadata": {
    "collapsed": true
   },
   "outputs": [],
   "source": [
    "### Now we download the data\n",
    "\n",
    "def getCitiBikeCSV(datestring):\n",
    "    print (\"Downloading\", datestring)\n",
    "    ### First I will heck that it is not already there\n",
    "    if not os.path.isfile(os.getenv(\"PUIDATA\") + \"/\" + datestring + \"-citibike-tripdata.csv\"):\n",
    "        if os.path.isfile(datestring + \"-citibike-tripdata.csv\"):\n",
    "            # if in the current dir just move it\n",
    "            if os.system(\"mv \" + datestring + \"-citibike-tripdata.csv \" + os.getenv(\"PUIDATA\")):\n",
    "                print (\"Error moving file!, Please check!\")\n",
    "        #otherwise start looking for the zip file\n",
    "        else:\n",
    "            if not os.path.isfile(os.getenv(\"PUIDATA\") + \"/\" + datestring + \"-citibike-tripdata.zip\"):\n",
    "                if not os.path.isfile(datestring + \"-citibike-tripdata.zip\"):\n",
    "                    os.system(\"curl -O https://s3.amazonaws.com/tripdata/\" + datestring + \"-citibike-tripdata.zip\")\n",
    "                ###  To move it I use the os.system() functions to run bash commands with arguments\n",
    "                os.system(\"mv \" + datestring + \"-citibike-tripdata.zip \" + os.getenv(\"PUIDATA\"))\n",
    "            ### unzip the csv \n",
    "            os.system(\"unzip \" + os.getenv(\"PUIDATA\") + \"/\" + datestring + \"-citibike-tripdata.zip\")\n",
    "            ## NOTE: old csv citibike data had a different name structure. \n",
    "            if '2014' in datestring:\n",
    "                os.system(\"mv \" + datestring[:4] + '-' +  datestring[4:] + \n",
    "                          \"\\ -\\ Citi\\ Bike\\ trip\\ data.csv \" + datestring + \"-citibike-tripdata.csv\")\n",
    "            os.system(\"mv \" + datestring + \"-citibike-tripdata.csv \" + os.getenv(\"PUIDATA\"))\n",
    "    ### One final check:\n",
    "    if not os.path.isfile(os.getenv(\"PUIDATA\") + \"/\" + datestring + \"-citibike-tripdata.csv\"):\n",
    "        print (\"WARNING!!! something is wrong: the file is not there!\")\n",
    "\n",
    "    else:\n",
    "        print (\"file in place, you can continue\")"
   ]
  },
  {
   "cell_type": "code",
   "execution_count": 3,
   "metadata": {
    "collapsed": false
   },
   "outputs": [
    {
     "name": "stdout",
     "output_type": "stream",
     "text": [
      "Downloading JC-201707\n",
      "file in place, you can continue\n"
     ]
    }
   ],
   "source": [
    "datestring = 'JC-201707'\n",
    "getCitiBikeCSV(datestring)"
   ]
  },
  {
   "cell_type": "code",
   "execution_count": 4,
   "metadata": {
    "collapsed": false
   },
   "outputs": [
    {
     "data": {
      "text/html": [
       "<div>\n",
       "<table border=\"1\" class=\"dataframe\">\n",
       "  <thead>\n",
       "    <tr style=\"text-align: right;\">\n",
       "      <th></th>\n",
       "      <th>tripduration</th>\n",
       "      <th>starttime</th>\n",
       "      <th>stoptime</th>\n",
       "      <th>start station id</th>\n",
       "      <th>start station name</th>\n",
       "      <th>start station latitude</th>\n",
       "      <th>start station longitude</th>\n",
       "      <th>end station id</th>\n",
       "      <th>end station name</th>\n",
       "      <th>end station latitude</th>\n",
       "      <th>end station longitude</th>\n",
       "      <th>bikeid</th>\n",
       "      <th>usertype</th>\n",
       "      <th>birth year</th>\n",
       "      <th>gender</th>\n",
       "      <th>date</th>\n",
       "    </tr>\n",
       "  </thead>\n",
       "  <tbody>\n",
       "    <tr>\n",
       "      <th>0</th>\n",
       "      <td>340</td>\n",
       "      <td>2017-07-01 00:00:08</td>\n",
       "      <td>2017-07-01 00:05:48</td>\n",
       "      <td>3186</td>\n",
       "      <td>Grove St PATH</td>\n",
       "      <td>40.719586</td>\n",
       "      <td>-74.043117</td>\n",
       "      <td>3267</td>\n",
       "      <td>Morris Canal</td>\n",
       "      <td>40.712419</td>\n",
       "      <td>-74.038526</td>\n",
       "      <td>29643</td>\n",
       "      <td>Subscriber</td>\n",
       "      <td>1994.0</td>\n",
       "      <td>2</td>\n",
       "      <td>2017-07-01 00:00:08</td>\n",
       "    </tr>\n",
       "    <tr>\n",
       "      <th>1</th>\n",
       "      <td>439</td>\n",
       "      <td>2017-07-01 00:02:35</td>\n",
       "      <td>2017-07-01 00:09:55</td>\n",
       "      <td>3183</td>\n",
       "      <td>Exchange Place</td>\n",
       "      <td>40.716247</td>\n",
       "      <td>-74.033459</td>\n",
       "      <td>3199</td>\n",
       "      <td>Newport Pkwy</td>\n",
       "      <td>40.728745</td>\n",
       "      <td>-74.032108</td>\n",
       "      <td>29585</td>\n",
       "      <td>Subscriber</td>\n",
       "      <td>1980.0</td>\n",
       "      <td>1</td>\n",
       "      <td>2017-07-01 00:02:35</td>\n",
       "    </tr>\n",
       "    <tr>\n",
       "      <th>2</th>\n",
       "      <td>186</td>\n",
       "      <td>2017-07-01 00:04:33</td>\n",
       "      <td>2017-07-01 00:07:40</td>\n",
       "      <td>3186</td>\n",
       "      <td>Grove St PATH</td>\n",
       "      <td>40.719586</td>\n",
       "      <td>-74.043117</td>\n",
       "      <td>3270</td>\n",
       "      <td>Jersey &amp; 6th St</td>\n",
       "      <td>40.725289</td>\n",
       "      <td>-74.045572</td>\n",
       "      <td>29219</td>\n",
       "      <td>Subscriber</td>\n",
       "      <td>1984.0</td>\n",
       "      <td>1</td>\n",
       "      <td>2017-07-01 00:04:33</td>\n",
       "    </tr>\n",
       "    <tr>\n",
       "      <th>3</th>\n",
       "      <td>442</td>\n",
       "      <td>2017-07-01 00:05:53</td>\n",
       "      <td>2017-07-01 00:13:15</td>\n",
       "      <td>3195</td>\n",
       "      <td>Sip Ave</td>\n",
       "      <td>40.730743</td>\n",
       "      <td>-74.063784</td>\n",
       "      <td>3193</td>\n",
       "      <td>Lincoln Park</td>\n",
       "      <td>40.724605</td>\n",
       "      <td>-74.078406</td>\n",
       "      <td>29497</td>\n",
       "      <td>Subscriber</td>\n",
       "      <td>1969.0</td>\n",
       "      <td>1</td>\n",
       "      <td>2017-07-01 00:05:53</td>\n",
       "    </tr>\n",
       "    <tr>\n",
       "      <th>4</th>\n",
       "      <td>170</td>\n",
       "      <td>2017-07-01 00:07:54</td>\n",
       "      <td>2017-07-01 00:10:45</td>\n",
       "      <td>3187</td>\n",
       "      <td>Warren St</td>\n",
       "      <td>40.721124</td>\n",
       "      <td>-74.038051</td>\n",
       "      <td>3186</td>\n",
       "      <td>Grove St PATH</td>\n",
       "      <td>40.719586</td>\n",
       "      <td>-74.043117</td>\n",
       "      <td>29483</td>\n",
       "      <td>Subscriber</td>\n",
       "      <td>1986.0</td>\n",
       "      <td>1</td>\n",
       "      <td>2017-07-01 00:07:54</td>\n",
       "    </tr>\n",
       "  </tbody>\n",
       "</table>\n",
       "</div>"
      ],
      "text/plain": [
       "   tripduration            starttime             stoptime  start station id  \\\n",
       "0           340  2017-07-01 00:00:08  2017-07-01 00:05:48              3186   \n",
       "1           439  2017-07-01 00:02:35  2017-07-01 00:09:55              3183   \n",
       "2           186  2017-07-01 00:04:33  2017-07-01 00:07:40              3186   \n",
       "3           442  2017-07-01 00:05:53  2017-07-01 00:13:15              3195   \n",
       "4           170  2017-07-01 00:07:54  2017-07-01 00:10:45              3187   \n",
       "\n",
       "  start station name  start station latitude  start station longitude  \\\n",
       "0      Grove St PATH               40.719586               -74.043117   \n",
       "1     Exchange Place               40.716247               -74.033459   \n",
       "2      Grove St PATH               40.719586               -74.043117   \n",
       "3            Sip Ave               40.730743               -74.063784   \n",
       "4          Warren St               40.721124               -74.038051   \n",
       "\n",
       "   end station id end station name  end station latitude  \\\n",
       "0            3267     Morris Canal             40.712419   \n",
       "1            3199     Newport Pkwy             40.728745   \n",
       "2            3270  Jersey & 6th St             40.725289   \n",
       "3            3193     Lincoln Park             40.724605   \n",
       "4            3186    Grove St PATH             40.719586   \n",
       "\n",
       "   end station longitude  bikeid    usertype  birth year  gender  \\\n",
       "0             -74.038526   29643  Subscriber      1994.0       2   \n",
       "1             -74.032108   29585  Subscriber      1980.0       1   \n",
       "2             -74.045572   29219  Subscriber      1984.0       1   \n",
       "3             -74.078406   29497  Subscriber      1969.0       1   \n",
       "4             -74.043117   29483  Subscriber      1986.0       1   \n",
       "\n",
       "                 date  \n",
       "0 2017-07-01 00:00:08  \n",
       "1 2017-07-01 00:02:35  \n",
       "2 2017-07-01 00:04:33  \n",
       "3 2017-07-01 00:05:53  \n",
       "4 2017-07-01 00:07:54  "
      ]
     },
     "execution_count": 4,
     "metadata": {},
     "output_type": "execute_result"
    }
   ],
   "source": [
    "df = pd.read_csv(os.getenv(\"PUIDATA\") + \"/\" + datestring + '-citibike-tripdata.csv')\n",
    "# df is the dataframe where the content of the csv file is stored\n",
    "df['date'] = pd.to_datetime(df['starttime'])\n",
    "df.head()"
   ]
  },
  {
   "cell_type": "code",
   "execution_count": 5,
   "metadata": {
    "collapsed": false,
    "scrolled": true
   },
   "outputs": [
    {
     "data": {
      "text/plain": [
       "Index(['tripduration', 'starttime', 'stoptime', 'start station id',\n",
       "       'start station name', 'start station latitude',\n",
       "       'start station longitude', 'end station id', 'end station name',\n",
       "       'end station latitude', 'end station longitude', 'bikeid', 'usertype',\n",
       "       'birth year', 'gender', 'date'],\n",
       "      dtype='object')"
      ]
     },
     "execution_count": 5,
     "metadata": {},
     "output_type": "execute_result"
    }
   ],
   "source": [
    "df.columns"
   ]
  },
  {
   "cell_type": "code",
   "execution_count": 6,
   "metadata": {
    "collapsed": false
   },
   "outputs": [],
   "source": [
    "df.drop(['tripduration', 'starttime', 'stoptime', 'start station id',\n",
    "       'start station name', 'start station latitude',\n",
    "       'start station longitude', 'end station id', 'end station name',\n",
    "       'end station latitude', 'end station longitude', 'bikeid', 'usertype',\n",
    "       'gender'], axis=1, inplace=True)"
   ]
  },
  {
   "cell_type": "code",
   "execution_count": 7,
   "metadata": {
    "collapsed": true
   },
   "outputs": [],
   "source": [
    "df.rename(columns = lambda x:x.replace(\"birth year\",\"birthyear\"), inplace = True)"
   ]
  },
  {
   "cell_type": "code",
   "execution_count": 8,
   "metadata": {
    "collapsed": false,
    "scrolled": true
   },
   "outputs": [
    {
     "data": {
      "text/html": [
       "<div>\n",
       "<table border=\"1\" class=\"dataframe\">\n",
       "  <thead>\n",
       "    <tr style=\"text-align: right;\">\n",
       "      <th></th>\n",
       "      <th>birthyear</th>\n",
       "      <th>date</th>\n",
       "    </tr>\n",
       "  </thead>\n",
       "  <tbody>\n",
       "    <tr>\n",
       "      <th>0</th>\n",
       "      <td>1994.0</td>\n",
       "      <td>2017-07-01 00:00:08</td>\n",
       "    </tr>\n",
       "    <tr>\n",
       "      <th>1</th>\n",
       "      <td>1980.0</td>\n",
       "      <td>2017-07-01 00:02:35</td>\n",
       "    </tr>\n",
       "    <tr>\n",
       "      <th>2</th>\n",
       "      <td>1984.0</td>\n",
       "      <td>2017-07-01 00:04:33</td>\n",
       "    </tr>\n",
       "    <tr>\n",
       "      <th>3</th>\n",
       "      <td>1969.0</td>\n",
       "      <td>2017-07-01 00:05:53</td>\n",
       "    </tr>\n",
       "    <tr>\n",
       "      <th>4</th>\n",
       "      <td>1986.0</td>\n",
       "      <td>2017-07-01 00:07:54</td>\n",
       "    </tr>\n",
       "  </tbody>\n",
       "</table>\n",
       "</div>"
      ],
      "text/plain": [
       "   birthyear                date\n",
       "0     1994.0 2017-07-01 00:00:08\n",
       "1     1980.0 2017-07-01 00:02:35\n",
       "2     1984.0 2017-07-01 00:04:33\n",
       "3     1969.0 2017-07-01 00:05:53\n",
       "4     1986.0 2017-07-01 00:07:54"
      ]
     },
     "execution_count": 8,
     "metadata": {},
     "output_type": "execute_result"
    }
   ],
   "source": [
    "df.head()"
   ]
  },
  {
   "cell_type": "markdown",
   "metadata": {},
   "source": [
    "### Lets separate post-90s (_po) from pre-90s (_pr) to test the hypotheses.\n",
    "### In this csv file we have the birth year\n",
    "\n",
    "### Lets plot the number of trips per week day"
   ]
  },
  {
   "cell_type": "code",
   "execution_count": 9,
   "metadata": {
    "collapsed": false
   },
   "outputs": [
    {
     "data": {
      "text/plain": [
       "<matplotlib.legend.Legend at 0x7fb21426acc0>"
      ]
     },
     "execution_count": 9,
     "metadata": {},
     "output_type": "execute_result"
    },
    {
     "data": {
      "image/png": "[encoded data removed]",
      "text/plain": [
       "<matplotlib.figure.Figure at 0x7fb1eda1b470>"
      ]
     },
     "metadata": {},
     "output_type": "display_data"
    }
   ],
   "source": [
    "fig = pl.figure(figsize(15,15))\n",
    "\n",
    "#instad of plotting with matplotlib i.e. plot() i use the plot method in pandas\n",
    "norm_po = 1\n",
    "((df['date'][df['birthyear'] >= 1990].groupby([df['date'].dt.weekday]).count()) / norm_po).plot(kind=\"bar\", \n",
    "                                                                                         color='IndianRed', \n",
    "                                                                                         label='post-90s')\n",
    "\n",
    "norm_pr = 1\n",
    "ax = ((df['date'][df['birthyear'] < 1990].groupby([df['date'].dt.weekday]).count()) / norm_pr).plot(kind=\"bar\", \n",
    "                                                                                              color='SteelBlue', \n",
    "                                                                                              alpha=0.5,\n",
    "                                                                                              label='pre-90s')\n",
    "\n",
    "tmp = ax.xaxis.set_ticklabels(['Mon', 'Tue', 'Wed', 'Thu', 'Fri', 'Sat', 'Sun'], fontsize=20)\n",
    "pl.ylabel(\"Number od rides\", fontsize = 18)\n",
    "pl.legend(fontsize = 18)"
   ]
  },
  {
   "cell_type": "markdown",
   "metadata": {},
   "source": [
    "## Figure 1a: Distribution of Citibike bikers by generations in July 2017, absolute counts"
   ]
  },
  {
   "cell_type": "markdown",
   "metadata": {},
   "source": [
    "### Note: the counts have errors of course. what is the error on the count statistics? \n",
    "### for N counts the error is sqrt(N) - this is because counts follow a Poisson statistic"
   ]
  },
  {
   "cell_type": "code",
   "execution_count": 10,
   "metadata": {
    "collapsed": false
   },
   "outputs": [
    {
     "data": {
      "text/plain": [
       "<matplotlib.legend.Legend at 0x7fb1ee6e31d0>"
      ]
     },
     "execution_count": 10,
     "metadata": {},
     "output_type": "execute_result"
    },
    {
     "data": {
      "image/png": "[encoded data removed]",
      "text/plain": [
       "<matplotlib.figure.Figure at 0x7fb1eda07358>"
      ]
     },
     "metadata": {},
     "output_type": "display_data"
    }
   ],
   "source": [
    "fig=pl.figure(figsize(15,10))\n",
    "\n",
    "counts_po = df.date[df.birthyear >=1990].groupby([df.date.dt.weekday]).count()\n",
    "norm_po=1\n",
    "error_po = np.sqrt(counts_po)\n",
    "ax = ((counts_po) / norm_po).plot(kind=\"bar\",color='IndianRed',  yerr=[\n",
    "            ((error_po) / norm_po, (error_po) / norm_po)], label='post-90s bikers')\n",
    "\n",
    "\n",
    "counts_pr = df.date[df.birthyear <1990].groupby([df.date.dt.weekday]).count()\n",
    "norm_pr = 1\n",
    "error_pr=np.sqrt(counts_pr)\n",
    "((counts_pr) / norm_pr).plot(kind=\"bar\", alpha=0.5, yerr=[((error_pr) / norm_pr, (error_pr) / norm_pr)], \n",
    "                           color='SteelBlue', label='pre-90s bikers')\n",
    "ax.xaxis.set_ticklabels(['Mon','Tue','Wed','Thu','Fri','Sat','Sun'], fontsize=20)\n",
    "ax.set_ylabel (\"Number of rides\", fontsize = 18)\n",
    "ax.set_xlabel (\"Day of the week\", fontsize = 18)\n",
    "pl.legend(['post-90s bikers','pre-90s bikers'],fontsize=20)\n"
   ]
  },
  {
   "cell_type": "markdown",
   "metadata": {},
   "source": [
    "## Figure 1b: Distribution of Citibike bikers by age in July 2017, absolute counts, with statistical errors"
   ]
  },
  {
   "cell_type": "markdown",
   "metadata": {},
   "source": [
    "Note: These are absolute numbers. It is very hard to compare absolute numbers. Ratios (or proportions) are more ameable to comparison, so let's _normalize_ the distribution of man, and that of women, i.e. devide them by the total number of rides for that gender. \n",
    "(Notice that i have to normalize the errorbars too!)\n",
    "\n"
   ]
  },
  {
   "cell_type": "code",
   "execution_count": 11,
   "metadata": {
    "collapsed": false,
    "scrolled": true
   },
   "outputs": [
    {
     "data": {
      "text/plain": [
       "<matplotlib.legend.Legend at 0x7fb1ee6e3b38>"
      ]
     },
     "execution_count": 11,
     "metadata": {},
     "output_type": "execute_result"
    },
    {
     "data": {
      "image/png": "[encoded data removed]",
      "text/plain": [
       "<matplotlib.figure.Figure at 0x7fb1eda07748>"
      ]
     },
     "metadata": {},
     "output_type": "display_data"
    }
   ],
   "source": [
    "fig = pl.figure(figsize(15,10))\n",
    "\n",
    "norm_po = counts_po.sum()\n",
    "error_po = np.sqrt(counts_po)\n",
    "((counts_po) / norm_po).plot(kind=\"bar\", color='IndianRed',  \n",
    "                           yerr=[((error_po) / norm_po, (error_po) / norm_po)], \n",
    "                           label='post-90s bikers')\n",
    "\n",
    "norm_pr = counts_pr.sum()\n",
    "ax = ((counts_pr) / norm_pr).plot(kind=\"bar\", alpha=0.5, \n",
    "                                yerr=[((error_pr) / norm_pr, (error_pr) / norm_pr)], \n",
    "                                color='SteelBlue', label='pre-90s bikers')\n",
    "\n",
    "ax.xaxis.set_ticklabels(['Mon', 'Tue', 'Wed', 'Thu', 'Fri', 'Sat', 'Sun'], fontsize=20)\n",
    "ax.set_ylabel (\"Fraction of rides\", fontsize=18)\n",
    "ax.set_xlabel (\"Day of the week\", fontsize=18)\n",
    "\n",
    "pl.legend(['post-90s bikers','pre-90s bikers'],fontsize=20)\n"
   ]
  },
  {
   "cell_type": "markdown",
   "metadata": {},
   "source": [
    "## Figure 2: Distribution of Citibike bikers by in July 2017, normalized"
   ]
  }
 ],
 "metadata": {
  "anaconda-cloud": {},
  "kernelspec": {
   "display_name": "PUI2016_Python3",
   "language": "python",
   "name": "pui2016_python3"
  },
  "language_info": {
   "codemirror_mode": {
    "name": "ipython",
    "version": 3
   },
   "file_extension": ".py",
   "mimetype": "text/x-python",
   "name": "python",
   "nbconvert_exporter": "python",
   "pygments_lexer": "ipython3",
   "version": "3.5.4"
  }
 },
 "nbformat": 4,
 "nbformat_minor": 0
}
