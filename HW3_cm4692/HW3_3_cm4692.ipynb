{
 "cells": [
  {
   "cell_type": "code",
   "execution_count": 1,
   "metadata": {
    "collapsed": true
   },
   "outputs": [],
   "source": [
    "import numpy as np\n",
    "import matplotlib.pylab as pl\n",
    "import pandas as pd\n",
    "import os\n",
    "\n",
    "%matplotlib inline"
   ]
  },
  {
   "cell_type": "markdown",
   "metadata": {},
   "source": [
    "## I want to know if new bus route improves the cummuting.\n",
    "\n",
    "# Null hypothesis: the commute time is the same or longer with the new bus route as it was before\n",
    "\n",
    "# _$H_0$_ : $T_{new}    >=   T_{old}$\n",
    "\n",
    "#  Alternative hypothesis: the commute time is shorter with the newbus route as it was before\n",
    "\n",
    "# _$H_1$_ : $T_{new}    <   T_{old}$\n",
    "# $Z$ = $\\frac{\\mu_{pop} - \\mu_{sample}}{\\sigma / \\sqrt{N}}$"
   ]
  },
  {
   "cell_type": "code",
   "execution_count": 2,
   "metadata": {
    "collapsed": true
   },
   "outputs": [],
   "source": [
    "np.random.seed(40)"
   ]
  },
  {
   "cell_type": "code",
   "execution_count": 3,
   "metadata": {
    "collapsed": false
   },
   "outputs": [
    {
     "data": {
      "text/plain": [
       "(array([  1.,   2.,   8.,  10.,  16.,  24.,  18.,  11.,   8.,   2.]),\n",
       " array([ 18.71403246,  21.81812342,  24.92221438,  28.02630534,\n",
       "         31.1303963 ,  34.23448726,  37.33857822,  40.44266918,\n",
       "         43.54676014,  46.6508511 ,  49.75494206]),\n",
       " <a list of 10 Patch objects>)"
      ]
     },
     "execution_count": 3,
     "metadata": {},
     "output_type": "execute_result"
    },
    {
     "data": {
      "image/png": "[encoded data removed]",
      "text/plain": [
       "<matplotlib.figure.Figure at 0x7faf203a7f28>"
      ]
     },
     "metadata": {},
     "output_type": "display_data"
    }
   ],
   "source": [
    "Told = np.random.normal(36,6,100)\n",
    "pl.hist(Told)"
   ]
  },
  {
   "cell_type": "code",
   "execution_count": 6,
   "metadata": {
    "collapsed": false
   },
   "outputs": [
    {
     "name": "stdout",
     "output_type": "stream",
     "text": [
      "[ 31.62223931  32.82137636  30.2291014   31.41376587  39.01055035\n",
      "  34.82207891  39.87188366  39.57994562  31.02658678  27.66246068\n",
      "  18.8752884   46.2313731   30.01522604  47.6004104   16.52726666\n",
      "  42.4462331   33.62527449  42.28462558  46.20520667  30.87517392\n",
      "  32.94800341  26.17691512  31.25699649  35.33644554  35.64072501\n",
      "  40.32297174  38.04348588  29.4579793   23.91636367  34.56403521\n",
      "  45.42782464  38.95607754  39.11396748  39.67398759  31.89148105\n",
      "  22.62379325  26.18910408  43.54114213  33.2607386   31.67602384\n",
      "  37.12846259  38.22048496  34.38814185  36.11407371  44.08064814\n",
      "  29.59917161  37.02411751  41.60576556  44.37860528  38.06471077\n",
      "  22.90526456  40.27182857  31.57979239  25.88037795  28.8913048\n",
      "  44.33687925  36.78948684  43.46098875  40.65557     26.16634004\n",
      "  25.13884784  33.01581456  32.87050073  26.28557154  39.44933037\n",
      "  36.25528612  40.719133    40.57181545  19.87166413  43.21925286\n",
      "  31.48102823  37.14915056  38.991504    20.53059384  27.80447692\n",
      "  38.69933298  30.0223142   38.64884169  26.40668884  32.10224978\n",
      "  28.31532754  43.26195884  40.3609407   37.3025258   31.45110181\n",
      "  38.79599524  36.92553372  32.37167945  23.25835631  26.42613261\n",
      "  48.74987653  31.42512354  46.80679298  30.59748648  20.7926322\n",
      "  26.19785226  42.7274097   33.7314695   37.23859057  36.33984141]\n"
     ]
    }
   ],
   "source": [
    "Tnew = pd.read_csv(\"https://raw.githubusercontent.com/fedhere/PUI2017_fb55/master\" + \n",
    "                   \"/Lab3_fb55/times.txt\",header=None).values.squeeze()\n",
    "print(Tnew)"
   ]
  },
  {
   "cell_type": "code",
   "execution_count": 8,
   "metadata": {
    "collapsed": true
   },
   "outputs": [],
   "source": [
    "meanNew = np.mean(Tnew)\n",
    "meanOld = 36\n",
    "stdevOld = 6\n"
   ]
  },
  {
   "cell_type": "code",
   "execution_count": 11,
   "metadata": {
    "collapsed": false
   },
   "outputs": [
    {
     "data": {
      "text/plain": [
       "2.5563971861666701"
      ]
     },
     "execution_count": 11,
     "metadata": {},
     "output_type": "execute_result"
    }
   ],
   "source": [
    "z = ( meanOld - meanNew ) / ( stdevOld / np.sqrt(len(Tnew)))\n",
    "z"
   ]
  },
  {
   "cell_type": "markdown",
   "metadata": {},
   "source": [
    "## let's set significance threshold α = 0.05, whose limit is 1.96 sigma\n",
    "## z satistics 2.55 is much further than 1.96 sigma\n",
    "## so the possibility of $H_0$ is less than 0.05, which means null hypothesis is not a proper hyphothesis, and alternative hypothesis is true\n",
    "# Conclusion: New bus Route imporves the commuting.\n"
   ]
  },
  {
   "cell_type": "code",
   "execution_count": null,
   "metadata": {
    "collapsed": true
   },
   "outputs": [],
   "source": []
  }
 ],
 "metadata": {
  "kernelspec": {
   "display_name": "PUI2016_Python3",
   "language": "python",
   "name": "pui2016_python3"
  },
  "language_info": {
   "codemirror_mode": {
    "name": "ipython",
    "version": 3
   },
   "file_extension": ".py",
   "mimetype": "text/x-python",
   "name": "python",
   "nbconvert_exporter": "python",
   "pygments_lexer": "ipython3",
   "version": "3.5.4"
  }
 },
 "nbformat": 4,
 "nbformat_minor": 0
}
