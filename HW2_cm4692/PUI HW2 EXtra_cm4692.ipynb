{
 "cells": [
  {
   "cell_type": "code",
   "execution_count": 1,
   "metadata": {
    "collapsed": false,
    "scrolled": false
   },
   "outputs": [
    {
     "name": "stdout",
     "output_type": "stream",
     "text": [
      "/gws/open/NYCOpenData/nycopendata/data\n"
     ]
    }
   ],
   "source": [
    "\n",
    "from __future__ import division, print_function\n",
    "__author__ = 'CHENG MA'\n",
    "import os\n",
    "import numpy as np\n",
    "from numpy.random import randn\n",
    "import pylab as pl\n",
    "\n",
    "from pandas import Series, DataFrame\n",
    "import pandas\n",
    "import pandas as pd\n",
    "\n",
    "DFdata = os.getenv(\"DFDATA\")\n",
    "print (DFdata)"
   ]
  },
  {
   "cell_type": "code",
   "execution_count": 2,
   "metadata": {
    "collapsed": false
   },
   "outputs": [
    {
     "data": {
      "text/html": [
       "<div>\n",
       "<table border=\"1\" class=\"dataframe\">\n",
       "  <thead>\n",
       "    <tr style=\"text-align: right;\">\n",
       "      <th></th>\n",
       "      <th>DATE</th>\n",
       "      <th>TIME</th>\n",
       "      <th>BOROUGH</th>\n",
       "      <th>ZIP CODE</th>\n",
       "      <th>LATITUDE</th>\n",
       "      <th>LONGITUDE</th>\n",
       "      <th>LOCATION</th>\n",
       "      <th>ON STREET NAME</th>\n",
       "      <th>CROSS STREET NAME</th>\n",
       "      <th>OFF STREET NAME</th>\n",
       "      <th>...</th>\n",
       "      <th>CONTRIBUTING FACTOR VEHICLE 2</th>\n",
       "      <th>CONTRIBUTING FACTOR VEHICLE 3</th>\n",
       "      <th>CONTRIBUTING FACTOR VEHICLE 4</th>\n",
       "      <th>CONTRIBUTING FACTOR VEHICLE 5</th>\n",
       "      <th>UNIQUE KEY</th>\n",
       "      <th>VEHICLE TYPE CODE 1</th>\n",
       "      <th>VEHICLE TYPE CODE 2</th>\n",
       "      <th>VEHICLE TYPE CODE 3</th>\n",
       "      <th>VEHICLE TYPE CODE 4</th>\n",
       "      <th>VEHICLE TYPE CODE 5</th>\n",
       "    </tr>\n",
       "  </thead>\n",
       "  <tbody>\n",
       "    <tr>\n",
       "      <th>0</th>\n",
       "      <td>04/04/2015</td>\n",
       "      <td>9:25</td>\n",
       "      <td>MANHATTAN</td>\n",
       "      <td>10001.0</td>\n",
       "      <td>40.750788</td>\n",
       "      <td>-74.005630</td>\n",
       "      <td>(40.7507879, -74.0056304)</td>\n",
       "      <td>WEST 26 STREET</td>\n",
       "      <td>11 AVENUE</td>\n",
       "      <td>NaN</td>\n",
       "      <td>...</td>\n",
       "      <td>Unspecified</td>\n",
       "      <td>NaN</td>\n",
       "      <td>NaN</td>\n",
       "      <td>NaN</td>\n",
       "      <td>3197298</td>\n",
       "      <td>PICK-UP TRUCK</td>\n",
       "      <td>LIVERY VEHICLE</td>\n",
       "      <td>NaN</td>\n",
       "      <td>NaN</td>\n",
       "      <td>NaN</td>\n",
       "    </tr>\n",
       "    <tr>\n",
       "      <th>1</th>\n",
       "      <td>04/04/2015</td>\n",
       "      <td>21:15</td>\n",
       "      <td>QUEENS</td>\n",
       "      <td>11357.0</td>\n",
       "      <td>40.781291</td>\n",
       "      <td>-73.814200</td>\n",
       "      <td>(40.7812915, -73.8141997)</td>\n",
       "      <td>20 AVENUE</td>\n",
       "      <td>150 STREET</td>\n",
       "      <td>NaN</td>\n",
       "      <td>...</td>\n",
       "      <td>Unspecified</td>\n",
       "      <td>NaN</td>\n",
       "      <td>NaN</td>\n",
       "      <td>NaN</td>\n",
       "      <td>3198105</td>\n",
       "      <td>PASSENGER VEHICLE</td>\n",
       "      <td>PASSENGER VEHICLE</td>\n",
       "      <td>NaN</td>\n",
       "      <td>NaN</td>\n",
       "      <td>NaN</td>\n",
       "    </tr>\n",
       "    <tr>\n",
       "      <th>2</th>\n",
       "      <td>04/04/2015</td>\n",
       "      <td>16:52</td>\n",
       "      <td>QUEENS</td>\n",
       "      <td>11385.0</td>\n",
       "      <td>40.702595</td>\n",
       "      <td>-73.855293</td>\n",
       "      <td>(40.7025952, -73.8552926)</td>\n",
       "      <td>WOODHAVEN BOULEVARD</td>\n",
       "      <td>MYRTLE AVENUE</td>\n",
       "      <td>NaN</td>\n",
       "      <td>...</td>\n",
       "      <td>Unspecified</td>\n",
       "      <td>NaN</td>\n",
       "      <td>NaN</td>\n",
       "      <td>NaN</td>\n",
       "      <td>3197589</td>\n",
       "      <td>PASSENGER VEHICLE</td>\n",
       "      <td>OTHER</td>\n",
       "      <td>NaN</td>\n",
       "      <td>NaN</td>\n",
       "      <td>NaN</td>\n",
       "    </tr>\n",
       "  </tbody>\n",
       "</table>\n",
       "<p>3 rows × 29 columns</p>\n",
       "</div>"
      ],
      "text/plain": [
       "         DATE   TIME    BOROUGH  ZIP CODE   LATITUDE  LONGITUDE  \\\n",
       "0  04/04/2015   9:25  MANHATTAN   10001.0  40.750788 -74.005630   \n",
       "1  04/04/2015  21:15     QUEENS   11357.0  40.781291 -73.814200   \n",
       "2  04/04/2015  16:52     QUEENS   11385.0  40.702595 -73.855293   \n",
       "\n",
       "                    LOCATION       ON STREET NAME CROSS STREET NAME  \\\n",
       "0  (40.7507879, -74.0056304)       WEST 26 STREET         11 AVENUE   \n",
       "1  (40.7812915, -73.8141997)            20 AVENUE        150 STREET   \n",
       "2  (40.7025952, -73.8552926)  WOODHAVEN BOULEVARD     MYRTLE AVENUE   \n",
       "\n",
       "  OFF STREET NAME         ...          CONTRIBUTING FACTOR VEHICLE 2  \\\n",
       "0             NaN         ...                            Unspecified   \n",
       "1             NaN         ...                            Unspecified   \n",
       "2             NaN         ...                            Unspecified   \n",
       "\n",
       "   CONTRIBUTING FACTOR VEHICLE 3  CONTRIBUTING FACTOR VEHICLE 4  \\\n",
       "0                            NaN                            NaN   \n",
       "1                            NaN                            NaN   \n",
       "2                            NaN                            NaN   \n",
       "\n",
       "   CONTRIBUTING FACTOR VEHICLE 5  UNIQUE KEY  VEHICLE TYPE CODE 1  \\\n",
       "0                            NaN     3197298        PICK-UP TRUCK   \n",
       "1                            NaN     3198105    PASSENGER VEHICLE   \n",
       "2                            NaN     3197589    PASSENGER VEHICLE   \n",
       "\n",
       "   VEHICLE TYPE CODE 2  VEHICLE TYPE CODE 3 VEHICLE TYPE CODE 4  \\\n",
       "0       LIVERY VEHICLE                  NaN                 NaN   \n",
       "1    PASSENGER VEHICLE                  NaN                 NaN   \n",
       "2                OTHER                  NaN                 NaN   \n",
       "\n",
       "  VEHICLE TYPE CODE 5  \n",
       "0                 NaN  \n",
       "1                 NaN  \n",
       "2                 NaN  \n",
       "\n",
       "[3 rows x 29 columns]"
      ]
     },
     "execution_count": 2,
     "metadata": {},
     "output_type": "execute_result"
    }
   ],
   "source": [
    "CSV2 = pd.read_csv(DFdata + \"/h9gi-nx95/1428430582/h9gi-nx95\")\n",
    "CSV2.head(3)"
   ]
  },
  {
   "cell_type": "code",
   "execution_count": 3,
   "metadata": {
    "collapsed": false
   },
   "outputs": [
    {
     "data": {
      "text/html": [
       "<div>\n",
       "<table border=\"1\" class=\"dataframe\">\n",
       "  <thead>\n",
       "    <tr style=\"text-align: right;\">\n",
       "      <th></th>\n",
       "      <th>TIME</th>\n",
       "      <th>Zip Code</th>\n",
       "    </tr>\n",
       "  </thead>\n",
       "  <tbody>\n",
       "    <tr>\n",
       "      <th>0</th>\n",
       "      <td>9:25</td>\n",
       "      <td>10001.0</td>\n",
       "    </tr>\n",
       "    <tr>\n",
       "      <th>1</th>\n",
       "      <td>21:15</td>\n",
       "      <td>11357.0</td>\n",
       "    </tr>\n",
       "    <tr>\n",
       "      <th>2</th>\n",
       "      <td>16:52</td>\n",
       "      <td>11385.0</td>\n",
       "    </tr>\n",
       "  </tbody>\n",
       "</table>\n",
       "</div>"
      ],
      "text/plain": [
       "    TIME  Zip Code\n",
       "0   9:25   10001.0\n",
       "1  21:15   11357.0\n",
       "2  16:52   11385.0"
      ]
     },
     "execution_count": 3,
     "metadata": {},
     "output_type": "execute_result"
    }
   ],
   "source": [
    "CSV3 = pd.DataFrame({\"TIME\" : list(CSV2.iloc[:,1]),\"Zip Code\":list(CSV2.iloc[:,3])})\n",
    "CSV3.head(3)"
   ]
  },
  {
   "cell_type": "code",
   "execution_count": null,
   "metadata": {
    "collapsed": false
   },
   "outputs": [],
   "source": [
    "#everytime i run this section, notebook turn down....\n",
    "from datetime import datetime\n",
    "modified_time = []\n",
    "for i in range(len(list(CSV3[\"TIME\"]))):\n",
    "    modified_time.append(datetime.strptime(list(CSV3[\"TIME\"])[i],'%H:%M'))\n",
    "print (modified_time)"
   ]
  },
  {
   "cell_type": "code",
   "execution_count": null,
   "metadata": {
    "collapsed": false
   },
   "outputs": [],
   "source": [
    "import matplotlib.pyplot as plt\n",
    "plt.title('Reducted Dataframe2')\n",
    "mpl.rcParams['xtick.labelsize'] = 10\n",
    "mpl.rcParams['ytick.labelsize'] = 10\n",
    "plt.ylabel('TIME')\n",
    "plt.xlabel('ZIPCODE')\n",
    "plt.scatter(list[\"modified_time\"],CSV3[\"Zip Code\"])\n",
    "plt.legend(loc=\"upper right\")\n",
    "plt.show()"
   ]
  },
  {
   "cell_type": "code",
   "execution_count": null,
   "metadata": {
    "collapsed": false
   },
   "outputs": [],
   "source": []
  },
  {
   "cell_type": "code",
   "execution_count": null,
   "metadata": {
    "collapsed": true
   },
   "outputs": [],
   "source": []
  }
 ],
 "metadata": {
  "kernelspec": {
   "display_name": "PUI2016_Python2",
   "language": "python",
   "name": "pui2016_python2"
  },
  "language_info": {
   "codemirror_mode": {
    "name": "ipython",
    "version": 2
   },
   "file_extension": ".py",
   "mimetype": "text/x-python",
   "name": "python",
   "nbconvert_exporter": "python",
   "pygments_lexer": "ipython2",
   "version": "2.7.12"
  }
 },
 "nbformat": 4,
 "nbformat_minor": 0
}
