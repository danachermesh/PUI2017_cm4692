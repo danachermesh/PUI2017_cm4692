{
 "cells": [
  {
   "cell_type": "markdown",
   "metadata": {},
   "source": [
    "### Test the Z test:\n",
    "\n",
    "(all simulated data)\n",
    "\n",
    "Generate N samples from a distribution of your choice, but not a Gaussian with a chosen mean μ and standard deviation σ: N(μ, σ) and calculate the mean of each sample (all samples should have the same size n).\n",
    "\n",
    "Assess the validity of the Z-test: If the samples are drawn from the distribution you are testing the z-values you calculate should follow a N(0,1) distribution (a Gaussian with mean 0 and standard deviation 1). Show that the distribution of z -statistics (find the formula in a statistics book or in last week’s slides) that you calculated (one for each sample) is indeed consistent with N(0,1).\n",
    "\n",
    "### Grading:\n",
    "\n",
    "you must:\n",
    "\n",
    "plot your original distribution\n",
    "\n",
    "plot at least one of the samples\n",
    "\n",
    "plot the distribution of z statistics\n",
    "\n",
    "fit the z-statistics with a gaussian model and assess the goodness of fit with a simple test (AD or KS).\n",
    "\n",
    "find the best fit values for the model parameters (mean and standard deviation) by minimizing the model chi square.\n",
    "\n",
    "plots need have caption, axis labels, etx and comment your figures and test results appropriately (to demonstrate your understanding)."
   ]
  },
  {
   "cell_type": "code",
   "execution_count": 1,
   "metadata": {
    "collapsed": false
   },
   "outputs": [
    {
     "name": "stdout",
     "output_type": "stream",
     "text": [
      "Populating the interactive namespace from numpy and matplotlib\n"
     ]
    },
    {
     "name": "stderr",
     "output_type": "stream",
     "text": [
      "/opt/rh/anaconda/root/envs/PUI2016_Python2/lib/python2.7/site-packages/IPython/core/magics/pylab.py:161: UserWarning: pylab import has clobbered these variables: ['norm']\n",
      "`%matplotlib` prevents importing * from pylab and numpy\n",
      "  \"\\n`%matplotlib` prevents importing * from pylab and numpy\"\n"
     ]
    }
   ],
   "source": [
    "from __future__ import print_function, division\n",
    "import pylab as pl\n",
    "import pandas as pd\n",
    "import numpy as np\n",
    "import scipy as sp\n",
    "from scipy import stats\n",
    "from scipy.stats import norm\n",
    "import matplotlib.pyplot as plt\n",
    "%pylab inline"
   ]
  },
  {
   "cell_type": "code",
   "execution_count": 2,
   "metadata": {
    "collapsed": false
   },
   "outputs": [],
   "source": [
    "np.random.seed(999)\n",
    "\n",
    "#description of population\n",
    "mydf = 4\n",
    "mysigma = np.sqrt(2*mydf)\n",
    "mynum =100\n",
    "mysize = 1000\n",
    "\n",
    "#mysp.stats.norm.rvs(loc=mymean, scale=mystdev, size=100)\n",
    "# rvs: a way to draw\n",
    "mydist={}\n",
    "oridist= sp.stats.chi2.rvs(df=mydf,size=100000)\n",
    "dismeans = np.zeros(mynum)\n",
    "for i in range(mynum):\n",
    "    #mydistrib = sp.stats.norm.rvs(loc=mymean, scale=mystdev, size=Nsamples)\n",
    "    mydist[i] = sp.stats.chi2.rvs(df=mydf,size=mysize)\n",
    "    dismeans[i] = mydist[i].mean()\n",
    "#pl.hist(sp.stats.norm.rvs(loc=mymean, scale=mystdev, size=100))"
   ]
  },
  {
   "cell_type": "code",
   "execution_count": 3,
   "metadata": {
    "collapsed": false
   },
   "outputs": [
    {
     "data": {
      "text/plain": [
       "array([ 3.96892304,  3.96875275,  4.07447228,  3.9608615 ,  3.96921663,\n",
       "        4.18595906,  3.89441094,  3.96941677,  3.98893497,  3.96635157,\n",
       "        3.97962463,  4.19252551,  4.01650431,  4.08900382,  4.02186569,\n",
       "        3.99455187,  4.00729396,  4.10406145,  3.98893405,  3.93972236,\n",
       "        4.10971256,  3.97609305,  4.17792661,  4.09299782,  3.87014155,\n",
       "        4.04477204,  3.92228033,  3.97206501,  4.08964354,  4.0583117 ,\n",
       "        3.92339191,  4.06268621,  4.10101468,  4.0159496 ,  3.85534533,\n",
       "        4.06700616,  4.13956177,  3.9298458 ,  3.97591236,  3.89784091,\n",
       "        4.00777963,  3.88335939,  3.82727503,  4.01882796,  3.9924681 ,\n",
       "        4.14574355,  3.97747568,  3.98243371,  4.06886911,  3.97223781,\n",
       "        4.13409289,  3.9192838 ,  3.99103873,  3.79708412,  4.10418812,\n",
       "        4.14467176,  3.95407681,  3.99101142,  3.86933807,  3.98260002,\n",
       "        3.9982474 ,  4.03724434,  4.08353935,  4.01980001,  3.94058242,\n",
       "        3.96873134,  3.92936398,  3.94877245,  4.06426198,  3.97727408,\n",
       "        3.92037323,  4.10368178,  4.1038325 ,  4.0433512 ,  4.01953102,\n",
       "        3.82398443,  4.0455128 ,  3.91576087,  4.08718184,  4.04278861,\n",
       "        3.94428932,  3.96607468,  4.13252776,  4.09631236,  3.97874856,\n",
       "        3.98998893,  3.96292286,  4.06958775,  3.94677668,  4.0731595 ,\n",
       "        4.15161275,  3.97861003,  4.09583339,  3.95288821,  3.8526466 ,\n",
       "        3.87613639,  4.09283179,  4.2607903 ,  3.96702772,  3.94454511])"
      ]
     },
     "execution_count": 3,
     "metadata": {},
     "output_type": "execute_result"
    }
   ],
   "source": [
    "dismeans"
   ]
  },
  {
   "cell_type": "code",
   "execution_count": 4,
   "metadata": {
    "collapsed": false
   },
   "outputs": [
    {
     "data": {
      "text/plain": [
       "<matplotlib.text.Text at 0x7fe597974610>"
      ]
     },
     "execution_count": 4,
     "metadata": {},
     "output_type": "execute_result"
    },
    {
     "data": {
      "image/png": "[encoded data removed]",
      "text/plain": [
       "<matplotlib.figure.Figure at 0x7fe597cf0fd0>"
      ]
     },
     "metadata": {},
     "output_type": "display_data"
    }
   ],
   "source": [
    "pl.hist(mydist[1],bins=30,color='r');\n",
    "pl.ylabel(\"Numbers\", fontsize = 18)\n",
    "pl.xlabel('values',fontsize = 18)\n",
    "pl.title('one sample plot, size=1000',fontsize = 18)"
   ]
  },
  {
   "cell_type": "markdown",
   "metadata": {},
   "source": [
    "caption:"
   ]
  },
  {
   "cell_type": "code",
   "execution_count": 5,
   "metadata": {
    "collapsed": false
   },
   "outputs": [
    {
     "data": {
      "text/plain": [
       "<matplotlib.text.Text at 0x7fe5956cff10>"
      ]
     },
     "execution_count": 5,
     "metadata": {},
     "output_type": "execute_result"
    },
    {
     "data": {
      "image/png": "[encoded data removed]",
      "text/plain": [
       "<matplotlib.figure.Figure at 0x7fe5977fa250>"
      ]
     },
     "metadata": {},
     "output_type": "display_data"
    }
   ],
   "source": [
    "pl.hist(oridist,bins=30,color='r');\n",
    "pl.ylabel(\"Numbers\", fontsize = 18)\n",
    "pl.xlabel('values',fontsize = 18)\n",
    "pl.title('original distribution, size=100000',fontsize = 18)"
   ]
  },
  {
   "cell_type": "markdown",
   "metadata": {},
   "source": [
    "caption:"
   ]
  },
  {
   "cell_type": "code",
   "execution_count": 6,
   "metadata": {
    "collapsed": false
   },
   "outputs": [],
   "source": [
    "sampleZ = {}\n",
    "for i in range(mynum):\n",
    "    sampleZ[i]=(dismeans[i]-mydf)*np.sqrt(mysize)/mysigma"
   ]
  },
  {
   "cell_type": "code",
   "execution_count": 7,
   "metadata": {
    "collapsed": false
   },
   "outputs": [
    {
     "data": {
      "text/plain": [
       "<matplotlib.text.Text at 0x7fe595541d90>"
      ]
     },
     "execution_count": 7,
     "metadata": {},
     "output_type": "execute_result"
    },
    {
     "data": {
      "image/png": "[encoded data removed]",
      "text/plain": [
       "<matplotlib.figure.Figure at 0x7fe5955dacd0>"
      ]
     },
     "metadata": {},
     "output_type": "display_data"
    }
   ],
   "source": [
    "pl.hist(sampleZ.values(),bins=10,normed=True);\n",
    "pl.ylabel(\"Numbers\", fontsize = 18)\n",
    "pl.xlabel('Z-statistics',fontsize = 18)\n",
    "pl.title('Zs distribution, size=mynum',fontsize = 18)"
   ]
  },
  {
   "cell_type": "code",
   "execution_count": 15,
   "metadata": {
    "collapsed": false
   },
   "outputs": [
    {
     "data": {
      "text/plain": [
       "[<matplotlib.lines.Line2D at 0x7f2e27e652d0>]"
      ]
     },
     "execution_count": 15,
     "metadata": {},
     "output_type": "execute_result"
    },
    {
     "data": {
      "image/png": "[encoded data removed]",
      "text/plain": [
       "<matplotlib.figure.Figure at 0x7f2e280add90>"
      ]
     },
     "metadata": {},
     "output_type": "display_data"
    }
   ],
   "source": [
    "fitnorm=pl.figure(figsize=(10,6)).add_subplot(111)\n",
    "\n",
    "fitnorm.hist(sampleZ.values(),bins=10,normed=True);\n",
    "fitnorm.set_ylabel(\"P\", fontsize = 18)\n",
    "fitnorm.set_xlabel('Z-statistics',fontsize = 18)\n",
    "fitnorm.set_title('Zs distribution',fontsize = 18)\n",
    "\n",
    "xmin, xmax = plt.xlim()\n",
    "x = np.linspace(xmin, xmax, 100)\n",
    "y = sp.stats.norm.pdf(x,0, 1.)\n",
    "fitnorm.plot(x, y)"
   ]
  },
  {
   "cell_type": "code",
   "execution_count": 9,
   "metadata": {
    "collapsed": false
   },
   "outputs": [
    {
     "data": {
      "text/plain": [
       "KstestResult(statistic=0.072233812740189585, pvalue=0.67202386285079285)"
      ]
     },
     "execution_count": 9,
     "metadata": {},
     "output_type": "execute_result"
    }
   ],
   "source": [
    "sp.stats.kstest(sampleZ.values(),'norm')"
   ]
  },
  {
   "cell_type": "markdown",
   "metadata": {
    "collapsed": false
   },
   "source": [
    "### p-value $>=$ 0.05, so we can't reject $H_0$, so z-stat distribution fits the gaussian distribution"
   ]
  },
  {
   "cell_type": "markdown",
   "metadata": {
    "collapsed": true
   },
   "source": [
    "### find the best fit values for the model parameters (mean and standard deviation) by minimizing the model chi square."
   ]
  },
  {
   "cell_type": "code",
   "execution_count": null,
   "metadata": {
    "collapsed": true
   },
   "outputs": [],
   "source": []
  }
 ],
 "metadata": {
  "kernelspec": {
   "display_name": "PUI2016_Python2",
   "language": "python",
   "name": "pui2016_python2"
  },
  "language_info": {
   "codemirror_mode": {
    "name": "ipython",
    "version": 2
   },
   "file_extension": ".py",
   "mimetype": "text/x-python",
   "name": "python",
   "nbconvert_exporter": "python",
   "pygments_lexer": "ipython2",
   "version": "2.7.12"
  }
 },
 "nbformat": 4,
 "nbformat_minor": 0
}
